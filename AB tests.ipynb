{
 "cells": [
  {
   "cell_type": "markdown",
   "metadata": {
    "colab_type": "text",
    "id": "n1OAN3T8gtfk"
   },
   "source": [
    "**Задание 1**\n",
    "\n",
    "Проанализировать набор данных и ответить на следующие вопросы:\n",
    "\n",
    "1) Какой % наблюдений выходит за 5 и 95 перцентиль?\n",
    "\n",
    "2) Какому закону распределения отвечают данные? На основе чего вы так решили?\n",
    "\n",
    "[Ссылка на данные](https://drive.google.com/file/d/1fc8BGSjDiwbZW6rcr3mMSwAjU2T_BpGW/view?usp=sharing)\n",
    "\n",
    "Описание данных:\n",
    "\n",
    "* metrics -- значение определенной метрики в сервисе для пользователя (например, количество кликов). \n",
    "\n",
    "\n",
    "*Вместе с ответом на задание приложить код*"
   ]
  },
  {
   "cell_type": "code",
   "execution_count": 1,
   "metadata": {
    "colab": {},
    "colab_type": "code",
    "id": "DrNFSA-BhGkq"
   },
   "outputs": [],
   "source": [
    "import pandas as pd\n",
    "data = pd.read_csv('test_1_1.csv', sep =';', index_col = 0)"
   ]
  },
  {
   "cell_type": "code",
   "execution_count": 2,
   "metadata": {
    "colab": {
     "base_uri": "https://localhost:8080/",
     "height": 73
    },
    "colab_type": "code",
    "id": "VKOAUyQpDuX_",
    "outputId": "c51c818a-eee6-42be-f8b3-a26863dd1378"
   },
   "outputs": [],
   "source": [
    "import numpy as np\n",
    "import pandas as pd\n",
    "from scipy import stats\n",
    "from scipy.stats import norm\n",
    "import seaborn as sns\n",
    "import matplotlib.pyplot as plt\n",
    "from matplotlib import pylab"
   ]
  },
  {
   "cell_type": "markdown",
   "metadata": {
    "colab_type": "text",
    "id": "12ac97asSMX4"
   },
   "source": [
    "1) Какой % наблюдений выходит за 5 и 95 перцентиль?"
   ]
  },
  {
   "cell_type": "code",
   "execution_count": 3,
   "metadata": {},
   "outputs": [
    {
     "data": {
      "text/html": [
       "<div>\n",
       "<style scoped>\n",
       "    .dataframe tbody tr th:only-of-type {\n",
       "        vertical-align: middle;\n",
       "    }\n",
       "\n",
       "    .dataframe tbody tr th {\n",
       "        vertical-align: top;\n",
       "    }\n",
       "\n",
       "    .dataframe thead th {\n",
       "        text-align: right;\n",
       "    }\n",
       "</style>\n",
       "<table border=\"1\" class=\"dataframe\">\n",
       "  <thead>\n",
       "    <tr style=\"text-align: right;\">\n",
       "      <th></th>\n",
       "      <th>metrics</th>\n",
       "    </tr>\n",
       "  </thead>\n",
       "  <tbody>\n",
       "    <tr>\n",
       "      <td>1</td>\n",
       "      <td>1</td>\n",
       "    </tr>\n",
       "    <tr>\n",
       "      <td>2</td>\n",
       "      <td>1</td>\n",
       "    </tr>\n",
       "    <tr>\n",
       "      <td>3</td>\n",
       "      <td>4</td>\n",
       "    </tr>\n",
       "    <tr>\n",
       "      <td>4</td>\n",
       "      <td>1</td>\n",
       "    </tr>\n",
       "    <tr>\n",
       "      <td>5</td>\n",
       "      <td>1</td>\n",
       "    </tr>\n",
       "    <tr>\n",
       "      <td>...</td>\n",
       "      <td>...</td>\n",
       "    </tr>\n",
       "    <tr>\n",
       "      <td>306835</td>\n",
       "      <td>8</td>\n",
       "    </tr>\n",
       "    <tr>\n",
       "      <td>306836</td>\n",
       "      <td>11</td>\n",
       "    </tr>\n",
       "    <tr>\n",
       "      <td>306837</td>\n",
       "      <td>1</td>\n",
       "    </tr>\n",
       "    <tr>\n",
       "      <td>306838</td>\n",
       "      <td>81</td>\n",
       "    </tr>\n",
       "    <tr>\n",
       "      <td>306839</td>\n",
       "      <td>1</td>\n",
       "    </tr>\n",
       "  </tbody>\n",
       "</table>\n",
       "<p>306839 rows × 1 columns</p>\n",
       "</div>"
      ],
      "text/plain": [
       "        metrics\n",
       "1             1\n",
       "2             1\n",
       "3             4\n",
       "4             1\n",
       "5             1\n",
       "...         ...\n",
       "306835        8\n",
       "306836       11\n",
       "306837        1\n",
       "306838       81\n",
       "306839        1\n",
       "\n",
       "[306839 rows x 1 columns]"
      ]
     },
     "execution_count": 3,
     "metadata": {},
     "output_type": "execute_result"
    }
   ],
   "source": [
    "data"
   ]
  },
  {
   "cell_type": "code",
   "execution_count": 4,
   "metadata": {
    "colab": {
     "base_uri": "https://localhost:8080/",
     "height": 53
    },
    "colab_type": "code",
    "id": "2tzru4t2ETPT",
    "outputId": "33d90e9f-9b71-4bbe-dd81-3a1a0c026d5c"
   },
   "outputs": [
    {
     "name": "stdout",
     "output_type": "stream",
     "text": [
      "1.0\n",
      "52.0\n"
     ]
    }
   ],
   "source": [
    "#высчитываем перцентили\n",
    "alpha_q5, alhpa_q95 = np.percentile(data, [5, 95])\n",
    "print(alpha_q5)\n",
    "print(alhpa_q95)"
   ]
  },
  {
   "cell_type": "code",
   "execution_count": 5,
   "metadata": {
    "colab": {
     "base_uri": "https://localhost:8080/",
     "height": 35
    },
    "colab_type": "code",
    "id": "K_DctW7-d-JF",
    "outputId": "dfda6c7c-cc37-43f8-84b5-f5249377270f"
   },
   "outputs": [
    {
     "data": {
      "text/plain": [
       "0.0"
      ]
     },
     "execution_count": 5,
     "metadata": {},
     "output_type": "execute_result"
    }
   ],
   "source": [
    "#высчитываем процент наблюдений меньше 5 перцентиля \n",
    "a = len(data[data['metrics'] < alpha_q5])\n",
    "b = len(data['metrics'])\n",
    "a/b*100"
   ]
  },
  {
   "cell_type": "code",
   "execution_count": 6,
   "metadata": {
    "colab": {
     "base_uri": "https://localhost:8080/",
     "height": 35
    },
    "colab_type": "code",
    "id": "Srw9MEN9TIqV",
    "outputId": "e3c58398-97f5-4748-ebd1-55f97aeff1f0"
   },
   "outputs": [
    {
     "data": {
      "text/plain": [
       "4.987306046493438"
      ]
     },
     "execution_count": 6,
     "metadata": {},
     "output_type": "execute_result"
    }
   ],
   "source": [
    "#высчитываем процент наблюдений больше 95 перцентиля\n",
    "a = len(data[data['metrics'] > alhpa_q95])\n",
    "a/b*100"
   ]
  },
  {
   "cell_type": "markdown",
   "metadata": {
    "colab_type": "text",
    "id": "0F2aYiuhTh8s"
   },
   "source": [
    "2) Какому закону распределения отвечают данные? На основе чего вы так решили?"
   ]
  },
  {
   "cell_type": "code",
   "execution_count": 7,
   "metadata": {
    "colab": {
     "base_uri": "https://localhost:8080/",
     "height": 233
    },
    "colab_type": "code",
    "id": "q6LBT8GsbtWN",
    "outputId": "8d2bc7f9-29ea-43eb-b7f8-9c21f646d081"
   },
   "outputs": [
    {
     "data": {
      "text/plain": [
       "1          1\n",
       "2          1\n",
       "3          4\n",
       "4          1\n",
       "5          1\n",
       "          ..\n",
       "306835     8\n",
       "306836    11\n",
       "306837     1\n",
       "306838    81\n",
       "306839     1\n",
       "Name: metrics, Length: 306839, dtype: int64"
      ]
     },
     "execution_count": 7,
     "metadata": {},
     "output_type": "execute_result"
    }
   ],
   "source": [
    "data.metrics"
   ]
  },
  {
   "cell_type": "code",
   "execution_count": 8,
   "metadata": {},
   "outputs": [
    {
     "name": "stdout",
     "output_type": "stream",
     "text": [
      "maean = 10.146275408276\n",
      "var = 511.9965640636836\n"
     ]
    }
   ],
   "source": [
    "#найдем среднее и дисперсию\n",
    "mean = np.mean(data['metrics'])\n",
    "var = np.std(data['metrics'])\n",
    "print('maean =', mean)\n",
    "print('var =', var**2)"
   ]
  },
  {
   "cell_type": "code",
   "execution_count": 9,
   "metadata": {},
   "outputs": [],
   "source": [
    "#выкинем выбросы\n",
    "data_new11 = data[data['metrics'] < mean + 3*var]\n",
    "data_new11 = data_new11[data_new11['metrics'] > mean - 3*var]"
   ]
  },
  {
   "cell_type": "code",
   "execution_count": 10,
   "metadata": {},
   "outputs": [
    {
     "data": {
      "image/png": "[encoded data removed]",
      "text/plain": [
       "<Figure size 432x288 with 1 Axes>"
      ]
     },
     "metadata": {
      "needs_background": "light"
     },
     "output_type": "display_data"
    }
   ],
   "source": [
    "#создаем экспоненциальное распределение\n",
    "from scipy.stats import expon\n",
    "r = expon.rvs(size=299436) + 1\n",
    "plt.hist(r, bins = 50)\n",
    "plt.show()"
   ]
  },
  {
   "cell_type": "code",
   "execution_count": 11,
   "metadata": {},
   "outputs": [
    {
     "data": {
      "text/plain": [
       "(-0.00041331433564422386, 0.8210709515385213)"
      ]
     },
     "execution_count": 11,
     "metadata": {},
     "output_type": "execute_result"
    }
   ],
   "source": [
    "from scipy.stats import logistic,uniform,norm,pearsonr, gamma\n",
    "pearsonr(r, data_new11['metrics'])"
   ]
  },
  {
   "cell_type": "code",
   "execution_count": 12,
   "metadata": {},
   "outputs": [
    {
     "data": {
      "text/plain": [
       "(-0.00041331433564422386, 0.8210709515385213)"
      ]
     },
     "execution_count": 12,
     "metadata": {},
     "output_type": "execute_result"
    }
   ],
   "source": [
    "pearsonr(r, data_new11['metrics'])"
   ]
  },
  {
   "cell_type": "markdown",
   "metadata": {},
   "source": [
    "Распределение экспоненциально"
   ]
  },
  {
   "cell_type": "markdown",
   "metadata": {
    "colab_type": "text",
    "id": "EPeOFnBYgtfr"
   },
   "source": [
    "**Задание 2**\n",
    "\n",
    "Определить, можно сравнить две представленные выборки t критерием Стьюдента? \n",
    "\n",
    "Если нельзя сравнивать t-критерием, то что будем использовать и почему?\n",
    "\n",
    "Ответ аргументировать и описать \n",
    "\n",
    "[Ссылка на данные](https://drive.google.com/file/d/1blvC6TEBWghhVMexjOdoGEjzhZZh3wSy/view?usp=sharing)\n",
    "\n",
    "Описание данных: \n",
    "\n",
    "* variant -- вариация в А/Б тесте (либо группа А -- например, сайт без изменений. Либо группа Б -- сайт с изменениями)\n",
    "* metrics -- значение определенной метрики в сервисе для пользователя (например, количество кликов). \n",
    "\n",
    "*Вместе с ответом на задание приложить код*"
   ]
  },
  {
   "cell_type": "code",
   "execution_count": 13,
   "metadata": {
    "colab": {},
    "colab_type": "code",
    "id": "DinErRznp6v0"
   },
   "outputs": [],
   "source": [
    "import pandas as pd\n",
    "data2 = pd.read_csv('test_1_2 (1).csv', sep =';', index_col = 0)"
   ]
  },
  {
   "cell_type": "code",
   "execution_count": 14,
   "metadata": {},
   "outputs": [
    {
     "data": {
      "text/html": [
       "<div>\n",
       "<style scoped>\n",
       "    .dataframe tbody tr th:only-of-type {\n",
       "        vertical-align: middle;\n",
       "    }\n",
       "\n",
       "    .dataframe tbody tr th {\n",
       "        vertical-align: top;\n",
       "    }\n",
       "\n",
       "    .dataframe thead th {\n",
       "        text-align: right;\n",
       "    }\n",
       "</style>\n",
       "<table border=\"1\" class=\"dataframe\">\n",
       "  <thead>\n",
       "    <tr style=\"text-align: right;\">\n",
       "      <th></th>\n",
       "      <th>variant</th>\n",
       "      <th>metrics</th>\n",
       "    </tr>\n",
       "  </thead>\n",
       "  <tbody>\n",
       "    <tr>\n",
       "      <td>1</td>\n",
       "      <td>A</td>\n",
       "      <td>1</td>\n",
       "    </tr>\n",
       "    <tr>\n",
       "      <td>2</td>\n",
       "      <td>B</td>\n",
       "      <td>1</td>\n",
       "    </tr>\n",
       "    <tr>\n",
       "      <td>3</td>\n",
       "      <td>A</td>\n",
       "      <td>4</td>\n",
       "    </tr>\n",
       "    <tr>\n",
       "      <td>4</td>\n",
       "      <td>B</td>\n",
       "      <td>37</td>\n",
       "    </tr>\n",
       "    <tr>\n",
       "      <td>5</td>\n",
       "      <td>B</td>\n",
       "      <td>4</td>\n",
       "    </tr>\n",
       "    <tr>\n",
       "      <td>...</td>\n",
       "      <td>...</td>\n",
       "      <td>...</td>\n",
       "    </tr>\n",
       "    <tr>\n",
       "      <td>184200</td>\n",
       "      <td>A</td>\n",
       "      <td>12</td>\n",
       "    </tr>\n",
       "    <tr>\n",
       "      <td>184201</td>\n",
       "      <td>A</td>\n",
       "      <td>8</td>\n",
       "    </tr>\n",
       "    <tr>\n",
       "      <td>184202</td>\n",
       "      <td>B</td>\n",
       "      <td>11</td>\n",
       "    </tr>\n",
       "    <tr>\n",
       "      <td>184203</td>\n",
       "      <td>B</td>\n",
       "      <td>81</td>\n",
       "    </tr>\n",
       "    <tr>\n",
       "      <td>184204</td>\n",
       "      <td>A</td>\n",
       "      <td>1</td>\n",
       "    </tr>\n",
       "  </tbody>\n",
       "</table>\n",
       "<p>184204 rows × 2 columns</p>\n",
       "</div>"
      ],
      "text/plain": [
       "       variant  metrics\n",
       "1            A        1\n",
       "2            B        1\n",
       "3            A        4\n",
       "4            B       37\n",
       "5            B        4\n",
       "...        ...      ...\n",
       "184200       A       12\n",
       "184201       A        8\n",
       "184202       B       11\n",
       "184203       B       81\n",
       "184204       A        1\n",
       "\n",
       "[184204 rows x 2 columns]"
      ]
     },
     "execution_count": 14,
     "metadata": {},
     "output_type": "execute_result"
    }
   ],
   "source": [
    "data2"
   ]
  },
  {
   "cell_type": "code",
   "execution_count": 15,
   "metadata": {
    "colab": {},
    "colab_type": "code",
    "id": "cgzEXD0xqHkm"
   },
   "outputs": [],
   "source": [
    "dataA = data2[data2.variant=='A']\n",
    "dataB = data2[data2.variant=='B']"
   ]
  },
  {
   "cell_type": "code",
   "execution_count": 16,
   "metadata": {
    "colab": {
     "base_uri": "https://localhost:8080/",
     "height": 419
    },
    "colab_type": "code",
    "id": "llxkSp4D3JeF",
    "outputId": "007044b1-fec6-45d9-f0c7-ac6a5ceaaf95"
   },
   "outputs": [
    {
     "data": {
      "text/html": [
       "<div>\n",
       "<style scoped>\n",
       "    .dataframe tbody tr th:only-of-type {\n",
       "        vertical-align: middle;\n",
       "    }\n",
       "\n",
       "    .dataframe tbody tr th {\n",
       "        vertical-align: top;\n",
       "    }\n",
       "\n",
       "    .dataframe thead th {\n",
       "        text-align: right;\n",
       "    }\n",
       "</style>\n",
       "<table border=\"1\" class=\"dataframe\">\n",
       "  <thead>\n",
       "    <tr style=\"text-align: right;\">\n",
       "      <th></th>\n",
       "      <th>variant</th>\n",
       "      <th>metrics</th>\n",
       "    </tr>\n",
       "  </thead>\n",
       "  <tbody>\n",
       "    <tr>\n",
       "      <td>1</td>\n",
       "      <td>A</td>\n",
       "      <td>1</td>\n",
       "    </tr>\n",
       "    <tr>\n",
       "      <td>3</td>\n",
       "      <td>A</td>\n",
       "      <td>4</td>\n",
       "    </tr>\n",
       "    <tr>\n",
       "      <td>8</td>\n",
       "      <td>A</td>\n",
       "      <td>15</td>\n",
       "    </tr>\n",
       "    <tr>\n",
       "      <td>10</td>\n",
       "      <td>A</td>\n",
       "      <td>1</td>\n",
       "    </tr>\n",
       "    <tr>\n",
       "      <td>12</td>\n",
       "      <td>A</td>\n",
       "      <td>10</td>\n",
       "    </tr>\n",
       "    <tr>\n",
       "      <td>...</td>\n",
       "      <td>...</td>\n",
       "      <td>...</td>\n",
       "    </tr>\n",
       "    <tr>\n",
       "      <td>184195</td>\n",
       "      <td>A</td>\n",
       "      <td>4</td>\n",
       "    </tr>\n",
       "    <tr>\n",
       "      <td>184196</td>\n",
       "      <td>A</td>\n",
       "      <td>1</td>\n",
       "    </tr>\n",
       "    <tr>\n",
       "      <td>184200</td>\n",
       "      <td>A</td>\n",
       "      <td>12</td>\n",
       "    </tr>\n",
       "    <tr>\n",
       "      <td>184201</td>\n",
       "      <td>A</td>\n",
       "      <td>8</td>\n",
       "    </tr>\n",
       "    <tr>\n",
       "      <td>184204</td>\n",
       "      <td>A</td>\n",
       "      <td>1</td>\n",
       "    </tr>\n",
       "  </tbody>\n",
       "</table>\n",
       "<p>92686 rows × 2 columns</p>\n",
       "</div>"
      ],
      "text/plain": [
       "       variant  metrics\n",
       "1            A        1\n",
       "3            A        4\n",
       "8            A       15\n",
       "10           A        1\n",
       "12           A       10\n",
       "...        ...      ...\n",
       "184195       A        4\n",
       "184196       A        1\n",
       "184200       A       12\n",
       "184201       A        8\n",
       "184204       A        1\n",
       "\n",
       "[92686 rows x 2 columns]"
      ]
     },
     "execution_count": 16,
     "metadata": {},
     "output_type": "execute_result"
    }
   ],
   "source": [
    "dataA"
   ]
  },
  {
   "cell_type": "code",
   "execution_count": 17,
   "metadata": {
    "colab": {
     "base_uri": "https://localhost:8080/",
     "height": 419
    },
    "colab_type": "code",
    "id": "nLhRAJ7J3Jk7",
    "outputId": "94426451-c6d7-4a24-d6dc-ef8238d274c2"
   },
   "outputs": [
    {
     "data": {
      "text/html": [
       "<div>\n",
       "<style scoped>\n",
       "    .dataframe tbody tr th:only-of-type {\n",
       "        vertical-align: middle;\n",
       "    }\n",
       "\n",
       "    .dataframe tbody tr th {\n",
       "        vertical-align: top;\n",
       "    }\n",
       "\n",
       "    .dataframe thead th {\n",
       "        text-align: right;\n",
       "    }\n",
       "</style>\n",
       "<table border=\"1\" class=\"dataframe\">\n",
       "  <thead>\n",
       "    <tr style=\"text-align: right;\">\n",
       "      <th></th>\n",
       "      <th>variant</th>\n",
       "      <th>metrics</th>\n",
       "    </tr>\n",
       "  </thead>\n",
       "  <tbody>\n",
       "    <tr>\n",
       "      <td>2</td>\n",
       "      <td>B</td>\n",
       "      <td>1</td>\n",
       "    </tr>\n",
       "    <tr>\n",
       "      <td>4</td>\n",
       "      <td>B</td>\n",
       "      <td>37</td>\n",
       "    </tr>\n",
       "    <tr>\n",
       "      <td>5</td>\n",
       "      <td>B</td>\n",
       "      <td>4</td>\n",
       "    </tr>\n",
       "    <tr>\n",
       "      <td>6</td>\n",
       "      <td>B</td>\n",
       "      <td>1</td>\n",
       "    </tr>\n",
       "    <tr>\n",
       "      <td>7</td>\n",
       "      <td>B</td>\n",
       "      <td>3</td>\n",
       "    </tr>\n",
       "    <tr>\n",
       "      <td>...</td>\n",
       "      <td>...</td>\n",
       "      <td>...</td>\n",
       "    </tr>\n",
       "    <tr>\n",
       "      <td>184197</td>\n",
       "      <td>B</td>\n",
       "      <td>1</td>\n",
       "    </tr>\n",
       "    <tr>\n",
       "      <td>184198</td>\n",
       "      <td>B</td>\n",
       "      <td>37</td>\n",
       "    </tr>\n",
       "    <tr>\n",
       "      <td>184199</td>\n",
       "      <td>B</td>\n",
       "      <td>2</td>\n",
       "    </tr>\n",
       "    <tr>\n",
       "      <td>184202</td>\n",
       "      <td>B</td>\n",
       "      <td>11</td>\n",
       "    </tr>\n",
       "    <tr>\n",
       "      <td>184203</td>\n",
       "      <td>B</td>\n",
       "      <td>81</td>\n",
       "    </tr>\n",
       "  </tbody>\n",
       "</table>\n",
       "<p>91518 rows × 2 columns</p>\n",
       "</div>"
      ],
      "text/plain": [
       "       variant  metrics\n",
       "2            B        1\n",
       "4            B       37\n",
       "5            B        4\n",
       "6            B        1\n",
       "7            B        3\n",
       "...        ...      ...\n",
       "184197       B        1\n",
       "184198       B       37\n",
       "184199       B        2\n",
       "184202       B       11\n",
       "184203       B       81\n",
       "\n",
       "[91518 rows x 2 columns]"
      ]
     },
     "execution_count": 17,
     "metadata": {},
     "output_type": "execute_result"
    }
   ],
   "source": [
    "dataB"
   ]
  },
  {
   "cell_type": "markdown",
   "metadata": {
    "colab_type": "text",
    "id": "cNhUFV103OQ-"
   },
   "source": [
    "Для использования t критерия стьюдента нам необходима полная гомогенность и нормальность выборки. Проверим выполнение этих условий"
   ]
  },
  {
   "cell_type": "code",
   "execution_count": 18,
   "metadata": {
    "colab": {
     "base_uri": "https://localhost:8080/",
     "height": 53
    },
    "colab_type": "code",
    "id": "jB0ulCG_3d3S",
    "outputId": "2c30b29c-5f12-4c76-d137-8b6b20e6f317"
   },
   "outputs": [
    {
     "name": "stdout",
     "output_type": "stream",
     "text": [
      "92686\n",
      "91518\n"
     ]
    }
   ],
   "source": [
    "print(len(dataA))\n",
    "print(len(dataB))"
   ]
  },
  {
   "cell_type": "markdown",
   "metadata": {
    "colab_type": "text",
    "id": "i-rwDrEQ3pa0"
   },
   "source": [
    "Количество наблюдений в выборках не равно => выборка не гомогенна"
   ]
  },
  {
   "cell_type": "code",
   "execution_count": 19,
   "metadata": {
    "colab": {
     "base_uri": "https://localhost:8080/",
     "height": 439
    },
    "colab_type": "code",
    "id": "7FiAV9gn37pa",
    "outputId": "b4acc3d4-4a7c-4062-d23e-4d5a4c9a5c6a"
   },
   "outputs": [
    {
     "data": {
      "image/png": "[encoded data removed]",
      "text/plain": [
       "<Figure size 432x288 with 1 Axes>"
      ]
     },
     "metadata": {
      "needs_background": "light"
     },
     "output_type": "display_data"
    }
   ],
   "source": [
    "plt.hist(dataA ['metrics'], bins = 50)\n",
    "plt.show()"
   ]
  },
  {
   "cell_type": "code",
   "execution_count": null,
   "metadata": {},
   "outputs": [],
   "source": []
  },
  {
   "cell_type": "code",
   "execution_count": 20,
   "metadata": {
    "colab": {
     "base_uri": "https://localhost:8080/",
     "height": 439
    },
    "colab_type": "code",
    "id": "g5IZRVyv4f4C",
    "outputId": "e16ba0d6-8278-466f-bad4-419fc9fdbebc"
   },
   "outputs": [
    {
     "data": {
      "image/png": "[encoded data removed]",
      "text/plain": [
       "<Figure size 432x288 with 1 Axes>"
      ]
     },
     "metadata": {
      "needs_background": "light"
     },
     "output_type": "display_data"
    }
   ],
   "source": [
    "plt.hist(dataB ['metrics'], bins = 50)\n",
    "plt.show()"
   ]
  },
  {
   "cell_type": "markdown",
   "metadata": {
    "colab_type": "text",
    "id": "-tqKsnQv4khY"
   },
   "source": [
    "На нормальное не похоже, но проверим тестом Харке-Бера, так как он подходит для больших выборок"
   ]
  },
  {
   "cell_type": "code",
   "execution_count": 21,
   "metadata": {
    "colab": {
     "base_uri": "https://localhost:8080/",
     "height": 35
    },
    "colab_type": "code",
    "id": "FrayAbeF5Jyk",
    "outputId": "bcced0ff-128e-4985-cd3b-b74a6c697010"
   },
   "outputs": [
    {
     "data": {
      "text/plain": [
       "(26012586.81019765, 0.0)"
      ]
     },
     "execution_count": 21,
     "metadata": {},
     "output_type": "execute_result"
    }
   ],
   "source": [
    "stats.jarque_bera(dataA.metrics)"
   ]
  },
  {
   "cell_type": "code",
   "execution_count": 22,
   "metadata": {
    "colab": {
     "base_uri": "https://localhost:8080/",
     "height": 35
    },
    "colab_type": "code",
    "id": "0_EX6F7W5Ot7",
    "outputId": "6dbcea3e-9bfd-4293-b163-238195a7e379"
   },
   "outputs": [
    {
     "data": {
      "text/plain": [
       "(6573601.726257152, 0.0)"
      ]
     },
     "execution_count": 22,
     "metadata": {},
     "output_type": "execute_result"
    }
   ],
   "source": [
    "stats.jarque_bera(dataB.metrics)"
   ]
  },
  {
   "cell_type": "code",
   "execution_count": 23,
   "metadata": {
    "colab": {
     "base_uri": "https://localhost:8080/",
     "height": 53
    },
    "colab_type": "code",
    "id": "wftjO7la6p-F",
    "outputId": "f3465a42-ac26-4f1a-a5ae-f134e807fa62"
   },
   "outputs": [
    {
     "data": {
      "text/plain": [
       "(KstestResult(statistic=0.8413447460685429, pvalue=0.0),\n",
       " KstestResult(statistic=0.8413447460685429, pvalue=0.0))"
      ]
     },
     "execution_count": 23,
     "metadata": {},
     "output_type": "execute_result"
    }
   ],
   "source": [
    "stats.kstest(dataA['metrics'], 'norm'), stats.kstest(dataB['metrics'], 'norm')"
   ]
  },
  {
   "cell_type": "markdown",
   "metadata": {
    "colab_type": "text",
    "id": "l-OhtvQz4v-F"
   },
   "source": [
    "P-value во всех случаях равен 0 => выборки имеют не нормальное распределение"
   ]
  },
  {
   "cell_type": "markdown",
   "metadata": {
    "colab_type": "text",
    "id": "u2HSus9LPoNU"
   },
   "source": [
    "Проведем альтернативные тесты: Манна-Уитни и Крускала"
   ]
  },
  {
   "cell_type": "code",
   "execution_count": 24,
   "metadata": {
    "colab": {},
    "colab_type": "code",
    "id": "awbnoZGc7D7a"
   },
   "outputs": [
    {
     "data": {
      "text/plain": [
       "KruskalResult(statistic=17.596351848720612, pvalue=2.7311177113963818e-05)"
      ]
     },
     "execution_count": 24,
     "metadata": {},
     "output_type": "execute_result"
    }
   ],
   "source": [
    "stats.kruskal(dataA['metrics'], dataB['metrics'])"
   ]
  },
  {
   "cell_type": "code",
   "execution_count": 25,
   "metadata": {
    "colab": {
     "base_uri": "https://localhost:8080/",
     "height": 35
    },
    "colab_type": "code",
    "id": "xsbUPwHwA9__",
    "outputId": "8d3259de-efa9-4bbc-8765-24ec86cd89b9"
   },
   "outputs": [
    {
     "data": {
      "text/plain": [
       "MannwhitneyuResult(statistic=4195358346.0, pvalue=1.365559131227319e-05)"
      ]
     },
     "execution_count": 25,
     "metadata": {},
     "output_type": "execute_result"
    }
   ],
   "source": [
    "stats.mannwhitneyu(dataA.metrics, dataB.metrics)"
   ]
  },
  {
   "cell_type": "markdown",
   "metadata": {},
   "source": [
    "P-value<0.05 => Выборки A и B имеют различия"
   ]
  },
  {
   "cell_type": "markdown",
   "metadata": {
    "colab_type": "text",
    "id": "h-zne-Wrgtfu"
   },
   "source": [
    "**Задание 3**\n",
    "\n",
    "Дано две выборки по А/Б тесту.\n",
    "\n",
    "Две выборки несбалансированные - кол-во пользователей в каждой группе разные.\n",
    "\n",
    "Метрика, которую меряем в эксперименте (и которую используем для определения группы, которая лучше себя показала) - кол-во просмотренных страниц на пользователя \n",
    "\n",
    "Как вы будете принимать решение, какая группа лучше А или Б, и какие статистические методы (критерии) вы будете использовать, какие преобразования к данным применять? P.S. Вам может помочь лекция Виталия Черемисинова, где он рассказывал про А/Б тесты\n",
    "\n",
    "[Ссылка на данные](https://drive.google.com/file/d/1_g7Dw7-8QzTS47D6GNKMb0FzqMAWBDba/view?usp=sharing)\n",
    "\n",
    "Описание данных: \n",
    "\n",
    "* variant -- вариация в А/Б тесте (либо группа А -- например, сайт без изменений. Либо группа Б -- сайт с изменениями)\n",
    "* metrics -- значение определенной метрики в сервисе для пользователя (например, количество кликов). \n",
    "\n",
    "\n",
    "*Вместе с ответом на задание приложить код*"
   ]
  },
  {
   "cell_type": "code",
   "execution_count": 26,
   "metadata": {
    "colab": {},
    "colab_type": "code",
    "id": "dyKvmyJDptJO"
   },
   "outputs": [],
   "source": [
    "data3 = pd.read_csv('test_1_3.csv', sep =';', index_col = 0)"
   ]
  },
  {
   "cell_type": "code",
   "execution_count": 27,
   "metadata": {
    "colab": {},
    "colab_type": "code",
    "id": "g3L7MbXnsnUF"
   },
   "outputs": [],
   "source": [
    "data3A = data3[data3.variant=='A']\n",
    "data3B = data3[data3.variant=='D']"
   ]
  },
  {
   "cell_type": "code",
   "execution_count": 28,
   "metadata": {},
   "outputs": [
    {
     "data": {
      "text/plain": [
       "((array([-4.32932312, -4.12981686, -4.02127745, ...,  4.02127745,\n",
       "          4.12981686,  4.32932312]),\n",
       "  array([  1,   1,   1, ..., 501, 628, 998])),\n",
       " (15.163933878292891, 10.09956196189285, 0.6555644365449642))"
      ]
     },
     "execution_count": 28,
     "metadata": {},
     "output_type": "execute_result"
    },
    {
     "data": {
      "image/png": "[encoded data removed]",
      "text/plain": [
       "<Figure size 432x288 with 1 Axes>"
      ]
     },
     "metadata": {
      "needs_background": "light"
     },
     "output_type": "display_data"
    }
   ],
   "source": [
    "stats.probplot(data3A['metrics'], dist=stats.norm, plot=pylab)"
   ]
  },
  {
   "cell_type": "code",
   "execution_count": 29,
   "metadata": {
    "scrolled": true
   },
   "outputs": [
    {
     "data": {
      "text/plain": [
       "((array([-3.91623879, -3.69681999, -3.57661326, ...,  3.57661326,\n",
       "          3.69681999,  3.91623879]),\n",
       "  array([  1,   1,   1, ..., 311, 314, 406])),\n",
       " (14.663561282268196, 9.942386297281512, 0.6724147843171323))"
      ]
     },
     "execution_count": 29,
     "metadata": {},
     "output_type": "execute_result"
    },
    {
     "data": {
      "image/png": "[encoded data removed]",
      "text/plain": [
       "<Figure size 432x288 with 1 Axes>"
      ]
     },
     "metadata": {
      "needs_background": "light"
     },
     "output_type": "display_data"
    }
   ],
   "source": [
    "stats.probplot(data3B['metrics'], dist=stats.norm, plot=pylab)"
   ]
  },
  {
   "cell_type": "code",
   "execution_count": 30,
   "metadata": {
    "scrolled": true
   },
   "outputs": [
    {
     "data": {
      "image/png": "[encoded data removed]",
      "text/plain": [
       "<Figure size 432x288 with 1 Axes>"
      ]
     },
     "metadata": {
      "needs_background": "light"
     },
     "output_type": "display_data"
    }
   ],
   "source": [
    "plt.hist(data3A ['metrics'], bins = 50)\n",
    "plt.show()"
   ]
  },
  {
   "cell_type": "code",
   "execution_count": 31,
   "metadata": {},
   "outputs": [
    {
     "data": {
      "image/png": "[encoded data removed]",
      "text/plain": [
       "<Figure size 432x288 with 1 Axes>"
      ]
     },
     "metadata": {
      "needs_background": "light"
     },
     "output_type": "display_data"
    }
   ],
   "source": [
    "plt.hist(data3B ['metrics'], bins = 50)\n",
    "plt.show()"
   ]
  },
  {
   "cell_type": "markdown",
   "metadata": {},
   "source": [
    "Графически кажется, что выборки A и B не имеют значительных отличий. Проверим с помощью теста Колмагорова-Смирнова и Крускала. Бутстрап работает только для небольших выборок, поэтому его не используем"
   ]
  },
  {
   "cell_type": "code",
   "execution_count": 32,
   "metadata": {
    "colab": {
     "base_uri": "https://localhost:8080/",
     "height": 35
    },
    "colab_type": "code",
    "id": "FWkx8XZ5snRn",
    "outputId": "cb74100f-9d58-4d17-ebbe-e5102190f05a"
   },
   "outputs": [
    {
     "data": {
      "text/plain": [
       "Ks_2sampResult(statistic=0.009140002403439484, pvalue=0.21954502671938858)"
      ]
     },
     "execution_count": 32,
     "metadata": {},
     "output_type": "execute_result"
    }
   ],
   "source": [
    "stats.ks_2samp(data3A.metrics, data3B.metrics)"
   ]
  },
  {
   "cell_type": "code",
   "execution_count": 33,
   "metadata": {},
   "outputs": [
    {
     "data": {
      "text/plain": [
       "KruskalResult(statistic=1.446344604147111, pvalue=0.22911539853786028)"
      ]
     },
     "execution_count": 33,
     "metadata": {},
     "output_type": "execute_result"
    }
   ],
   "source": [
    "stats.kruskal(data3A.metrics, data3B.metrics)"
   ]
  },
  {
   "cell_type": "markdown",
   "metadata": {},
   "source": [
    "Попробуем преобразовать логарифмированием"
   ]
  },
  {
   "cell_type": "code",
   "execution_count": 34,
   "metadata": {},
   "outputs": [],
   "source": [
    "data3Aln = np.log(data3A.metrics)\n",
    "data3Bln = np.log(data3B.metrics)"
   ]
  },
  {
   "cell_type": "code",
   "execution_count": 35,
   "metadata": {},
   "outputs": [
    {
     "data": {
      "text/plain": [
       "Ks_2sampResult(statistic=0.009140002403439484, pvalue=0.21954502671938858)"
      ]
     },
     "execution_count": 35,
     "metadata": {},
     "output_type": "execute_result"
    }
   ],
   "source": [
    "stats.ks_2samp(data3Aln, data3Bln)"
   ]
  },
  {
   "cell_type": "code",
   "execution_count": 36,
   "metadata": {},
   "outputs": [
    {
     "data": {
      "text/plain": [
       "KruskalResult(statistic=1.446344604147111, pvalue=0.22911539853786028)"
      ]
     },
     "execution_count": 36,
     "metadata": {},
     "output_type": "execute_result"
    }
   ],
   "source": [
    "stats.kruskal(data3Aln, data3Bln)"
   ]
  },
  {
   "cell_type": "markdown",
   "metadata": {},
   "source": [
    "P-value>0.05 => Выборки различаются незначительно, могли быть взяты из одного распределения"
   ]
  },
  {
   "cell_type": "markdown",
   "metadata": {
    "colab_type": "text",
    "id": "fC3YztrCgtfw"
   },
   "source": [
    "**Задание 4**\n",
    "\n",
    "Есть данные с большой дисперсии у метрики (диспресию метрики можно посчитать для каждой группы). Для их дальнейшего анализа дисперсию необходимо сократить. Как определить, что дисперсия действительно большая? Если она большая, как вы будете ее чистить? Ответ аргументировать и описать.  P.S. Вам может помочь лекция Виталия Черемисинова, где он рассказывал про А/Б тесты\n",
    "\n",
    "Описание данных: \n",
    "\n",
    "* metrics -- значение определенной метрики в сервисе для пользователя (например, количество кликов). \n",
    "\n",
    "[Ссылка на данные](https://drive.google.com/file/d/1fc8BGSjDiwbZW6rcr3mMSwAjU2T_BpGW/view?usp=sharing)\n",
    "\n",
    "*Вместе с ответом на задание приложить код*"
   ]
  },
  {
   "cell_type": "code",
   "execution_count": 37,
   "metadata": {},
   "outputs": [],
   "source": [
    "data4 = pd.read_csv('test_1_1.csv', sep =';', index_col = 0)"
   ]
  },
  {
   "cell_type": "code",
   "execution_count": 58,
   "metadata": {},
   "outputs": [
    {
     "data": {
      "text/html": [
       "<div>\n",
       "<style scoped>\n",
       "    .dataframe tbody tr th:only-of-type {\n",
       "        vertical-align: middle;\n",
       "    }\n",
       "\n",
       "    .dataframe tbody tr th {\n",
       "        vertical-align: top;\n",
       "    }\n",
       "\n",
       "    .dataframe thead th {\n",
       "        text-align: right;\n",
       "    }\n",
       "</style>\n",
       "<table border=\"1\" class=\"dataframe\">\n",
       "  <thead>\n",
       "    <tr style=\"text-align: right;\">\n",
       "      <th></th>\n",
       "      <th>metrics</th>\n",
       "    </tr>\n",
       "  </thead>\n",
       "  <tbody>\n",
       "    <tr>\n",
       "      <td>1</td>\n",
       "      <td>1</td>\n",
       "    </tr>\n",
       "    <tr>\n",
       "      <td>2</td>\n",
       "      <td>1</td>\n",
       "    </tr>\n",
       "    <tr>\n",
       "      <td>3</td>\n",
       "      <td>4</td>\n",
       "    </tr>\n",
       "    <tr>\n",
       "      <td>4</td>\n",
       "      <td>1</td>\n",
       "    </tr>\n",
       "    <tr>\n",
       "      <td>5</td>\n",
       "      <td>1</td>\n",
       "    </tr>\n",
       "    <tr>\n",
       "      <td>...</td>\n",
       "      <td>...</td>\n",
       "    </tr>\n",
       "    <tr>\n",
       "      <td>306835</td>\n",
       "      <td>8</td>\n",
       "    </tr>\n",
       "    <tr>\n",
       "      <td>306836</td>\n",
       "      <td>11</td>\n",
       "    </tr>\n",
       "    <tr>\n",
       "      <td>306837</td>\n",
       "      <td>1</td>\n",
       "    </tr>\n",
       "    <tr>\n",
       "      <td>306838</td>\n",
       "      <td>81</td>\n",
       "    </tr>\n",
       "    <tr>\n",
       "      <td>306839</td>\n",
       "      <td>1</td>\n",
       "    </tr>\n",
       "  </tbody>\n",
       "</table>\n",
       "<p>306839 rows × 1 columns</p>\n",
       "</div>"
      ],
      "text/plain": [
       "        metrics\n",
       "1             1\n",
       "2             1\n",
       "3             4\n",
       "4             1\n",
       "5             1\n",
       "...         ...\n",
       "306835        8\n",
       "306836       11\n",
       "306837        1\n",
       "306838       81\n",
       "306839        1\n",
       "\n",
       "[306839 rows x 1 columns]"
      ]
     },
     "execution_count": 58,
     "metadata": {},
     "output_type": "execute_result"
    }
   ],
   "source": [
    "data4"
   ]
  },
  {
   "cell_type": "code",
   "execution_count": 38,
   "metadata": {
    "colab": {},
    "colab_type": "code",
    "id": "QyG9x5xRgtfx"
   },
   "outputs": [
    {
     "data": {
      "image/png": "[encoded data removed]",
      "text/plain": [
       "<Figure size 432x288 with 1 Axes>"
      ]
     },
     "metadata": {
      "needs_background": "light"
     },
     "output_type": "display_data"
    }
   ],
   "source": [
    "#рассмотрим гистограму распределения выборки\n",
    "plt.hist(data4['metrics'], bins=50)\n",
    "plt.show()"
   ]
  },
  {
   "cell_type": "code",
   "execution_count": 39,
   "metadata": {},
   "outputs": [
    {
     "name": "stdout",
     "output_type": "stream",
     "text": [
      "maean = 10.146275408276\n",
      "var = 511.9965640636836\n"
     ]
    }
   ],
   "source": [
    "#найдем среднее и дисперсию\n",
    "mean = np.mean(data4['metrics'])\n",
    "var = np.std(data4['metrics'])\n",
    "print('maean =', mean)\n",
    "print('var =', var**2)"
   ]
  },
  {
   "cell_type": "markdown",
   "metadata": {},
   "source": [
    "Видим, что при относительно небольшом среднем мы имеем высокую дисперсию => воспользуемся различными методами дляя ее уменьшения"
   ]
  },
  {
   "cell_type": "markdown",
   "metadata": {},
   "source": [
    "1) Исключение выбросов"
   ]
  },
  {
   "cell_type": "code",
   "execution_count": 40,
   "metadata": {},
   "outputs": [],
   "source": [
    "data_new = data4[data4['metrics'] < mean + 3*var]\n",
    "data_new = data_new[data_new['metrics'] > mean - 3*var]"
   ]
  },
  {
   "cell_type": "code",
   "execution_count": 41,
   "metadata": {},
   "outputs": [
    {
     "data": {
      "text/plain": [
       "7403"
      ]
     },
     "execution_count": 41,
     "metadata": {},
     "output_type": "execute_result"
    }
   ],
   "source": [
    "len(data)- len(data_new)"
   ]
  },
  {
   "cell_type": "code",
   "execution_count": 42,
   "metadata": {},
   "outputs": [
    {
     "name": "stdout",
     "output_type": "stream",
     "text": [
      "maean = 7.472999238568509\n",
      "var = 176.6934860832005\n"
     ]
    }
   ],
   "source": [
    "mean_new = np.mean(data_new['metrics'])\n",
    "var_new = np.std(data_new['metrics'])\n",
    "print('maean =', mean_new)\n",
    "print('var =', var_new**2)"
   ]
  },
  {
   "cell_type": "markdown",
   "metadata": {},
   "source": [
    "После исключения выбросов дисперсия выборки упала до 176"
   ]
  },
  {
   "cell_type": "markdown",
   "metadata": {},
   "source": [
    "2) Логорифмирование"
   ]
  },
  {
   "cell_type": "code",
   "execution_count": 43,
   "metadata": {},
   "outputs": [],
   "source": [
    "data_new_2 = np.log(data4)"
   ]
  },
  {
   "cell_type": "code",
   "execution_count": 44,
   "metadata": {},
   "outputs": [
    {
     "name": "stdout",
     "output_type": "stream",
     "text": [
      "maean = 1.1532095264289957\n",
      "var = 1.819212577501802\n"
     ]
    }
   ],
   "source": [
    "mean_new_2 = np.mean(data_new_2['metrics'])\n",
    "var_new_2 = np.std(data_new_2['metrics'])\n",
    "print('maean =', mean_new_2)\n",
    "print('var =', var_new_2**2)"
   ]
  },
  {
   "cell_type": "markdown",
   "metadata": {},
   "source": [
    "При логарифмировании дисперсия падает до 1.8, но и среднее сильно снижается"
   ]
  },
  {
   "cell_type": "markdown",
   "metadata": {},
   "source": [
    "3) Трансформация тестом Бокса-Кокса. Находим оптимальное lambda с помощью stats.boxcox"
   ]
  },
  {
   "cell_type": "code",
   "execution_count": 45,
   "metadata": {},
   "outputs": [
    {
     "data": {
      "text/plain": [
       "-0.488035148349584"
      ]
     },
     "execution_count": 45,
     "metadata": {},
     "output_type": "execute_result"
    }
   ],
   "source": [
    "data4_new_3 = stats.boxcox(data4['metrics'])\n",
    "data4_new_3[1]"
   ]
  },
  {
   "cell_type": "markdown",
   "metadata": {},
   "source": [
    "Используя lmbda = -0.48803515, применяем трансформацию"
   ]
  },
  {
   "cell_type": "code",
   "execution_count": 46,
   "metadata": {},
   "outputs": [],
   "source": [
    "data_bc = stats.boxcox(data.metrics, lmbda = data4_new_3[1])"
   ]
  },
  {
   "cell_type": "code",
   "execution_count": 47,
   "metadata": {},
   "outputs": [
    {
     "name": "stdout",
     "output_type": "stream",
     "text": [
      "maean = 0.6640930654380169\n",
      "var = 0.4341617960241314\n"
     ]
    }
   ],
   "source": [
    "mean_new_3 = np.mean(data_bc)\n",
    "var_new_3 = np.std(data_bc)\n",
    "print('maean =', mean_new_3)\n",
    "print('var =', var_new_3**2)"
   ]
  },
  {
   "cell_type": "markdown",
   "metadata": {},
   "source": [
    "Дисперсия упала до 0.43, а среднее до 0.66"
   ]
  },
  {
   "cell_type": "markdown",
   "metadata": {
    "colab_type": "text",
    "id": "wwusqDusgtf0"
   },
   "source": [
    "**Задание 5**\n",
    "\n",
    "Есть эксперимент с поисковыми подсказками. Вы хотим узнать, как изменился CTR в каждой группе эксперимента.\n",
    "\n",
    "**Данные**\n",
    "\n",
    "- id - уникальный идентификатор пользователя\n",
    "- action -\n",
    "- view - кол-во просмотров на одну сессию\n",
    "- variant - вариант a/b теста, где 0 - это версия \"A\", 1 -  версия \"B\".\n",
    "\n",
    "**Задача**\n",
    "\n",
    "- сформировать метрику для оценки эксперимента\n",
    "- подобрать критерий под особенности данных\n",
    "- сделать вывод о значимости эффекта\n",
    "\n",
    "**Данные** \n",
    "\n",
    "[Ссылка на данные](https://www.dropbox.com/s/fdki267uilkfq7l/task5.csv)"
   ]
  },
  {
   "cell_type": "code",
   "execution_count": 48,
   "metadata": {
    "colab": {},
    "colab_type": "code",
    "id": "O2APsMM57rWf"
   },
   "outputs": [],
   "source": [
    "data5 = pd.read_csv('task5.csv', sep =',', index_col = 0)"
   ]
  },
  {
   "cell_type": "markdown",
   "metadata": {},
   "source": [
    "Создаем метрику ctr = actions / view"
   ]
  },
  {
   "cell_type": "code",
   "execution_count": 49,
   "metadata": {
    "colab": {},
    "colab_type": "code",
    "id": "ct13IINc70Nb"
   },
   "outputs": [],
   "source": [
    "data5['ctr'] = (data5['action']/data5['view'])"
   ]
  },
  {
   "cell_type": "code",
   "execution_count": 50,
   "metadata": {
    "colab": {},
    "colab_type": "code",
    "id": "ndZa76uG792u"
   },
   "outputs": [],
   "source": [
    "# разделяем на две группы\n",
    "data5A = data5[data5.variant=='A']\n",
    "data5B = data5[data5.variant=='B']"
   ]
  },
  {
   "cell_type": "code",
   "execution_count": 51,
   "metadata": {},
   "outputs": [
    {
     "data": {
      "text/html": [
       "<div>\n",
       "<style scoped>\n",
       "    .dataframe tbody tr th:only-of-type {\n",
       "        vertical-align: middle;\n",
       "    }\n",
       "\n",
       "    .dataframe tbody tr th {\n",
       "        vertical-align: top;\n",
       "    }\n",
       "\n",
       "    .dataframe thead th {\n",
       "        text-align: right;\n",
       "    }\n",
       "</style>\n",
       "<table border=\"1\" class=\"dataframe\">\n",
       "  <thead>\n",
       "    <tr style=\"text-align: right;\">\n",
       "      <th></th>\n",
       "      <th>variant</th>\n",
       "      <th>view</th>\n",
       "      <th>action</th>\n",
       "      <th>ctr</th>\n",
       "    </tr>\n",
       "    <tr>\n",
       "      <th>id</th>\n",
       "      <th></th>\n",
       "      <th></th>\n",
       "      <th></th>\n",
       "      <th></th>\n",
       "    </tr>\n",
       "  </thead>\n",
       "  <tbody>\n",
       "    <tr>\n",
       "      <td>88258</td>\n",
       "      <td>A</td>\n",
       "      <td>10</td>\n",
       "      <td>2</td>\n",
       "      <td>0.200000</td>\n",
       "    </tr>\n",
       "    <tr>\n",
       "      <td>109938</td>\n",
       "      <td>A</td>\n",
       "      <td>3</td>\n",
       "      <td>1</td>\n",
       "      <td>0.333333</td>\n",
       "    </tr>\n",
       "    <tr>\n",
       "      <td>117644</td>\n",
       "      <td>A</td>\n",
       "      <td>7</td>\n",
       "      <td>5</td>\n",
       "      <td>0.714286</td>\n",
       "    </tr>\n",
       "    <tr>\n",
       "      <td>374080</td>\n",
       "      <td>A</td>\n",
       "      <td>9</td>\n",
       "      <td>9</td>\n",
       "      <td>1.000000</td>\n",
       "    </tr>\n",
       "    <tr>\n",
       "      <td>662082</td>\n",
       "      <td>A</td>\n",
       "      <td>1</td>\n",
       "      <td>1</td>\n",
       "      <td>1.000000</td>\n",
       "    </tr>\n",
       "    <tr>\n",
       "      <td>...</td>\n",
       "      <td>...</td>\n",
       "      <td>...</td>\n",
       "      <td>...</td>\n",
       "      <td>...</td>\n",
       "    </tr>\n",
       "    <tr>\n",
       "      <td>8356720</td>\n",
       "      <td>A</td>\n",
       "      <td>1</td>\n",
       "      <td>1</td>\n",
       "      <td>1.000000</td>\n",
       "    </tr>\n",
       "    <tr>\n",
       "      <td>8360750</td>\n",
       "      <td>A</td>\n",
       "      <td>1</td>\n",
       "      <td>1</td>\n",
       "      <td>1.000000</td>\n",
       "    </tr>\n",
       "    <tr>\n",
       "      <td>8382142</td>\n",
       "      <td>A</td>\n",
       "      <td>1</td>\n",
       "      <td>1</td>\n",
       "      <td>1.000000</td>\n",
       "    </tr>\n",
       "    <tr>\n",
       "      <td>8384020</td>\n",
       "      <td>A</td>\n",
       "      <td>1</td>\n",
       "      <td>1</td>\n",
       "      <td>1.000000</td>\n",
       "    </tr>\n",
       "    <tr>\n",
       "      <td>8390884</td>\n",
       "      <td>A</td>\n",
       "      <td>1</td>\n",
       "      <td>1</td>\n",
       "      <td>1.000000</td>\n",
       "    </tr>\n",
       "  </tbody>\n",
       "</table>\n",
       "<p>4646 rows × 4 columns</p>\n",
       "</div>"
      ],
      "text/plain": [
       "        variant  view  action       ctr\n",
       "id                                     \n",
       "88258         A    10       2  0.200000\n",
       "109938        A     3       1  0.333333\n",
       "117644        A     7       5  0.714286\n",
       "374080        A     9       9  1.000000\n",
       "662082        A     1       1  1.000000\n",
       "...         ...   ...     ...       ...\n",
       "8356720       A     1       1  1.000000\n",
       "8360750       A     1       1  1.000000\n",
       "8382142       A     1       1  1.000000\n",
       "8384020       A     1       1  1.000000\n",
       "8390884       A     1       1  1.000000\n",
       "\n",
       "[4646 rows x 4 columns]"
      ]
     },
     "execution_count": 51,
     "metadata": {},
     "output_type": "execute_result"
    }
   ],
   "source": [
    "data5A"
   ]
  },
  {
   "cell_type": "markdown",
   "metadata": {},
   "source": [
    "Проверим на нормальность визуально и с помощью теста Харке-Бера"
   ]
  },
  {
   "cell_type": "code",
   "execution_count": 52,
   "metadata": {},
   "outputs": [
    {
     "data": {
      "text/plain": [
       "((array([-3.61671784, -3.38024135, -3.24984825, ...,  3.24984825,\n",
       "          3.38024135,  3.61671784]),\n",
       "  array([0.06666667, 0.06666667, 0.06666667, ..., 1.        , 1.        ,\n",
       "         1.        ])),\n",
       " (0.2626544783901927, 0.7615838991498785, 0.8785330073753023))"
      ]
     },
     "execution_count": 52,
     "metadata": {},
     "output_type": "execute_result"
    },
    {
     "data": {
      "image/png": "[encoded data removed]",
      "text/plain": [
       "<Figure size 432x288 with 1 Axes>"
      ]
     },
     "metadata": {
      "needs_background": "light"
     },
     "output_type": "display_data"
    }
   ],
   "source": [
    "stats.probplot(data5A['ctr'], dist=stats.norm, plot=pylab)"
   ]
  },
  {
   "cell_type": "code",
   "execution_count": 53,
   "metadata": {},
   "outputs": [
    {
     "data": {
      "text/plain": [
       "((array([-3.54607291, -3.30518817, -3.17213176, ...,  3.17213176,\n",
       "          3.30518817,  3.54607291]),\n",
       "  array([0.05882353, 0.06666667, 0.06666667, ..., 1.        , 1.        ,\n",
       "         1.        ])),\n",
       " (0.26558928576914426, 0.756497644163971, 0.8830226380622282))"
      ]
     },
     "execution_count": 53,
     "metadata": {},
     "output_type": "execute_result"
    },
    {
     "data": {
      "image/png": "[encoded data removed]",
      "text/plain": [
       "<Figure size 432x288 with 1 Axes>"
      ]
     },
     "metadata": {
      "needs_background": "light"
     },
     "output_type": "display_data"
    }
   ],
   "source": [
    "stats.probplot(data5B['ctr'], dist=stats.norm, plot=pylab)"
   ]
  },
  {
   "cell_type": "code",
   "execution_count": 54,
   "metadata": {
    "colab": {
     "base_uri": "https://localhost:8080/",
     "height": 35
    },
    "colab_type": "code",
    "id": "iN3Fb35b90xq",
    "outputId": "c6a86e20-ac60-46fb-ecfe-ade95b119f57"
   },
   "outputs": [
    {
     "data": {
      "text/plain": [
       "(661.070456887029, 0.0)"
      ]
     },
     "execution_count": 54,
     "metadata": {},
     "output_type": "execute_result"
    }
   ],
   "source": [
    "stats.jarque_bera(data5A['ctr'])"
   ]
  },
  {
   "cell_type": "code",
   "execution_count": 55,
   "metadata": {},
   "outputs": [
    {
     "data": {
      "text/plain": [
       "(492.89850619446054, 0.0)"
      ]
     },
     "execution_count": 55,
     "metadata": {},
     "output_type": "execute_result"
    }
   ],
   "source": [
    "stats.jarque_bera(data5B['ctr'])"
   ]
  },
  {
   "cell_type": "markdown",
   "metadata": {},
   "source": [
    "И визуально и с помощью тестов ясно, что распределение не нормальное (p-value < 0.05)"
   ]
  },
  {
   "cell_type": "markdown",
   "metadata": {},
   "source": [
    "Проверим схожесть выборок с помощью теста Крускала и Колмагорова-Смирнова"
   ]
  },
  {
   "cell_type": "code",
   "execution_count": 56,
   "metadata": {
    "colab": {
     "base_uri": "https://localhost:8080/",
     "height": 35
    },
    "colab_type": "code",
    "id": "bLBzVFCA_THl",
    "outputId": "3cdb4d81-1b6a-4677-cb75-3f7ba7c0acba"
   },
   "outputs": [
    {
     "data": {
      "text/plain": [
       "KruskalResult(statistic=0.8481006229795939, pvalue=0.35709021817138975)"
      ]
     },
     "execution_count": 56,
     "metadata": {},
     "output_type": "execute_result"
    }
   ],
   "source": [
    "stats.kruskal(data5A.ctr, data5B.ctr)"
   ]
  },
  {
   "cell_type": "code",
   "execution_count": 57,
   "metadata": {
    "colab": {
     "base_uri": "https://localhost:8080/",
     "height": 35
    },
    "colab_type": "code",
    "id": "fzFlCQb7ATBP",
    "outputId": "35f907bb-9bc0-4f15-9337-c3a42fa377e9"
   },
   "outputs": [
    {
     "data": {
      "text/plain": [
       "Ks_2sampResult(statistic=0.01283722534269739, pvalue=1.0)"
      ]
     },
     "execution_count": 57,
     "metadata": {},
     "output_type": "execute_result"
    }
   ],
   "source": [
    "stats.ks_2samp(data5A.ctr, data5B.ctr)"
   ]
  },
  {
   "cell_type": "markdown",
   "metadata": {
    "colab": {},
    "colab_type": "code",
    "id": "yVvScyM-BKGd"
   },
   "source": [
    "P-value>0.05 => выборки схожи, А/B тест не дал результатов"
   ]
  },
  {
   "cell_type": "code",
   "execution_count": null,
   "metadata": {},
   "outputs": [],
   "source": []
  },
  {
   "cell_type": "code",
   "execution_count": null,
   "metadata": {},
   "outputs": [],
   "source": []
  },
  {
   "cell_type": "code",
   "execution_count": null,
   "metadata": {},
   "outputs": [],
   "source": []
  },
  {
   "cell_type": "code",
   "execution_count": null,
   "metadata": {},
   "outputs": [],
   "source": []
  },
  {
   "cell_type": "code",
   "execution_count": null,
   "metadata": {},
   "outputs": [],
   "source": []
  }
 ],
 "metadata": {
  "colab": {
   "name": "HW2_final (1).ipynb",
   "provenance": []
  },
  "kernelspec": {
   "display_name": "Python 3",
   "language": "python",
   "name": "python3"
  },
  "language_info": {
   "codemirror_mode": {
    "name": "ipython",
    "version": 3
   },
   "file_extension": ".py",
   "mimetype": "text/x-python",
   "name": "python",
   "nbconvert_exporter": "python",
   "pygments_lexer": "ipython3",
   "version": "3.7.4"
  }
 },
 "nbformat": 4,
 "nbformat_minor": 1
}
